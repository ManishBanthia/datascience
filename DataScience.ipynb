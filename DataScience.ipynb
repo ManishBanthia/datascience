{
 "cells": [
  {
   "cell_type": "code",
   "execution_count": 1,
   "id": "b6f79248",
   "metadata": {},
   "outputs": [
    {
     "name": "stdout",
     "output_type": "stream",
     "text": [
      "manish\n"
     ]
    }
   ],
   "source": [
    "print (\"manish\")"
   ]
  },
  {
   "cell_type": "code",
   "execution_count": 2,
   "id": "e86df8ca",
   "metadata": {},
   "outputs": [],
   "source": [
    "data = \"Welcome to data science world\""
   ]
  },
  {
   "cell_type": "code",
   "execution_count": 3,
   "id": "8688e622",
   "metadata": {},
   "outputs": [
    {
     "data": {
      "text/plain": [
       "'Welcome to data science world'"
      ]
     },
     "execution_count": 3,
     "metadata": {},
     "output_type": "execute_result"
    }
   ],
   "source": [
    "data\n"
   ]
  },
  {
   "cell_type": "code",
   "execution_count": 4,
   "id": "76c4fe2d",
   "metadata": {},
   "outputs": [],
   "source": [
    "data = \"manish\""
   ]
  },
  {
   "cell_type": "code",
   "execution_count": 5,
   "id": "4670ba61",
   "metadata": {},
   "outputs": [
    {
     "data": {
      "text/plain": [
       "'manish'"
      ]
     },
     "execution_count": 5,
     "metadata": {},
     "output_type": "execute_result"
    }
   ],
   "source": [
    "data"
   ]
  },
  {
   "cell_type": "code",
   "execution_count": 7,
   "id": "029d03bc",
   "metadata": {},
   "outputs": [
    {
     "name": "stdout",
     "output_type": "stream",
     "text": [
      "manish\n"
     ]
    }
   ],
   "source": [
    "print(\"manish\")"
   ]
  },
  {
   "cell_type": "code",
   "execution_count": 8,
   "id": "810464e5",
   "metadata": {},
   "outputs": [
    {
     "data": {
      "text/plain": [
       "'manish'"
      ]
     },
     "execution_count": 8,
     "metadata": {},
     "output_type": "execute_result"
    }
   ],
   "source": [
    "data=\"manish\"\n",
    "data"
   ]
  },
  {
   "cell_type": "code",
   "execution_count": 9,
   "id": "e595a5aa",
   "metadata": {},
   "outputs": [
    {
     "name": "stdout",
     "output_type": "stream",
     "text": [
      "7\n"
     ]
    }
   ],
   "source": [
    "print(12-5)"
   ]
  },
  {
   "cell_type": "code",
   "execution_count": 10,
   "id": "d7ca6839",
   "metadata": {},
   "outputs": [
    {
     "name": "stdout",
     "output_type": "stream",
     "text": [
      "-1230180\n"
     ]
    }
   ],
   "source": [
    "print(2132-1232312)"
   ]
  },
  {
   "cell_type": "code",
   "execution_count": 11,
   "id": "ec307199",
   "metadata": {},
   "outputs": [
    {
     "ename": "NameError",
     "evalue": "name 'Print' is not defined",
     "output_type": "error",
     "traceback": [
      "\u001b[1;31m---------------------------------------------------------------------------\u001b[0m",
      "\u001b[1;31mNameError\u001b[0m                                 Traceback (most recent call last)",
      "Cell \u001b[1;32mIn[11], line 1\u001b[0m\n\u001b[1;32m----> 1\u001b[0m \u001b[43mPrint\u001b[49m(\u001b[38;5;241m12321\u001b[39m\u001b[38;5;241m-\u001b[39m\u001b[38;5;241m324\u001b[39m)\n",
      "\u001b[1;31mNameError\u001b[0m: name 'Print' is not defined"
     ]
    }
   ],
   "source": [
    "Print(12321-324)"
   ]
  },
  {
   "cell_type": "code",
   "execution_count": null,
   "id": "d92917df",
   "metadata": {},
   "outputs": [],
   "source": []
  },
  {
   "cell_type": "code",
   "execution_count": null,
   "id": "aae0184c",
   "metadata": {},
   "outputs": [],
   "source": []
  }
 ],
 "metadata": {
  "kernelspec": {
   "display_name": "Python 3 (ipykernel)",
   "language": "python",
   "name": "python3"
  },
  "language_info": {
   "codemirror_mode": {
    "name": "ipython",
    "version": 3
   },
   "file_extension": ".py",
   "mimetype": "text/x-python",
   "name": "python",
   "nbconvert_exporter": "python",
   "pygments_lexer": "ipython3",
   "version": "3.10.9"
  }
 },
 "nbformat": 4,
 "nbformat_minor": 5
}
